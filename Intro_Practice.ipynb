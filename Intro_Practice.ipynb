{
  "nbformat": 4,
  "nbformat_minor": 0,
  "metadata": {
    "kernelspec": {
      "display_name": "Python 3",
      "language": "python",
      "name": "python3"
    },
    "language_info": {
      "codemirror_mode": {
        "name": "ipython",
        "version": 3
      },
      "file_extension": ".py",
      "mimetype": "text/x-python",
      "name": "python",
      "nbconvert_exporter": "python",
      "pygments_lexer": "ipython3",
      "version": "3.7.4"
    },
    "colab": {
      "name": "Intro-Practice.ipynb",
      "provenance": [],
      "collapsed_sections": [
        "cNu07foPzuGB",
        "A4COP2DKzuGC",
        "MvvOYo9zzuGD",
        "duAS8LwjzuGE"
      ],
      "include_colab_link": true
    }
  },
  "cells": [
    {
      "cell_type": "markdown",
      "metadata": {
        "id": "view-in-github",
        "colab_type": "text"
      },
      "source": [
        "<a href=\"https://colab.research.google.com/github/swbyun-yie17/DSL/blob/master/Intro_Practice.ipynb\" target=\"_parent\"><img src=\"https://colab.research.google.com/assets/colab-badge.svg\" alt=\"Open In Colab\"/></a>"
      ]
    },
    {
      "cell_type": "markdown",
      "metadata": {
        "id": "LcKbYbs0zuEg",
        "colab_type": "text"
      },
      "source": [
        "# 모델 만들기 (기초)"
      ]
    },
    {
      "cell_type": "code",
      "metadata": {
        "id": "u9ZuwkGCzuEl",
        "colab_type": "code",
        "colab": {}
      },
      "source": [
        "import pandas as pd\n",
        "import numpy as np"
      ],
      "execution_count": 0,
      "outputs": []
    },
    {
      "cell_type": "markdown",
      "metadata": {
        "id": "eg99vmYkzuEs",
        "colab_type": "text"
      },
      "source": [
        "모델 만들기 과정\n",
        "- 데이터 클렌징\n",
        "    - Na값 제거\n",
        "    - 데이터들 숫자형으로 통일 (더미변수 이용)\n",
        "    - y값, x값 분리, 필요하다면 train,test 데이터도 분리\n",
        "- 모델 적합\n",
        "    - 알고리즘 선택\n",
        "    - 하이퍼 파라미터 선택\n",
        "- 모델 점수 확인\n",
        "    - 모델 유형에 따른 평가 점수 선택\n",
        "    - cross-validation"
      ]
    },
    {
      "cell_type": "markdown",
      "metadata": {
        "id": "SSqz2iwPzuEu",
        "colab_type": "text"
      },
      "source": [
        "#  1.데이터 클렌징"
      ]
    },
    {
      "cell_type": "code",
      "metadata": {
        "id": "eHsgZZVmzuEw",
        "colab_type": "code",
        "colab": {}
      },
      "source": [
        "county = pd.read_csv(\"kc_house_data.csv\")"
      ],
      "execution_count": 0,
      "outputs": []
    },
    {
      "cell_type": "code",
      "metadata": {
        "id": "iqR-4f3VzuE1",
        "colab_type": "code",
        "outputId": "a27a4ba8-365b-4841-9a72-9f657ba8fd1c",
        "colab": {}
      },
      "source": [
        "county.head()"
      ],
      "execution_count": 0,
      "outputs": [
        {
          "output_type": "execute_result",
          "data": {
            "text/html": [
              "<div>\n",
              "<style scoped>\n",
              "    .dataframe tbody tr th:only-of-type {\n",
              "        vertical-align: middle;\n",
              "    }\n",
              "\n",
              "    .dataframe tbody tr th {\n",
              "        vertical-align: top;\n",
              "    }\n",
              "\n",
              "    .dataframe thead th {\n",
              "        text-align: right;\n",
              "    }\n",
              "</style>\n",
              "<table border=\"1\" class=\"dataframe\">\n",
              "  <thead>\n",
              "    <tr style=\"text-align: right;\">\n",
              "      <th></th>\n",
              "      <th>id</th>\n",
              "      <th>date</th>\n",
              "      <th>price</th>\n",
              "      <th>bedrooms</th>\n",
              "      <th>bathrooms</th>\n",
              "      <th>sqft_living</th>\n",
              "      <th>sqft_lot</th>\n",
              "      <th>floors</th>\n",
              "      <th>waterfront</th>\n",
              "      <th>view</th>\n",
              "      <th>...</th>\n",
              "      <th>grade</th>\n",
              "      <th>sqft_above</th>\n",
              "      <th>sqft_basement</th>\n",
              "      <th>yr_built</th>\n",
              "      <th>yr_renovated</th>\n",
              "      <th>zipcode</th>\n",
              "      <th>lat</th>\n",
              "      <th>long</th>\n",
              "      <th>sqft_living15</th>\n",
              "      <th>sqft_lot15</th>\n",
              "    </tr>\n",
              "  </thead>\n",
              "  <tbody>\n",
              "    <tr>\n",
              "      <td>0</td>\n",
              "      <td>7129300520</td>\n",
              "      <td>20141013T000000</td>\n",
              "      <td>221900.0</td>\n",
              "      <td>3</td>\n",
              "      <td>1.00</td>\n",
              "      <td>1180</td>\n",
              "      <td>5650</td>\n",
              "      <td>1.0</td>\n",
              "      <td>0</td>\n",
              "      <td>0</td>\n",
              "      <td>...</td>\n",
              "      <td>7</td>\n",
              "      <td>1180</td>\n",
              "      <td>0</td>\n",
              "      <td>1955</td>\n",
              "      <td>0</td>\n",
              "      <td>98178</td>\n",
              "      <td>47.5112</td>\n",
              "      <td>-122.257</td>\n",
              "      <td>1340</td>\n",
              "      <td>5650</td>\n",
              "    </tr>\n",
              "    <tr>\n",
              "      <td>1</td>\n",
              "      <td>6414100192</td>\n",
              "      <td>20141209T000000</td>\n",
              "      <td>538000.0</td>\n",
              "      <td>3</td>\n",
              "      <td>2.25</td>\n",
              "      <td>2570</td>\n",
              "      <td>7242</td>\n",
              "      <td>2.0</td>\n",
              "      <td>0</td>\n",
              "      <td>0</td>\n",
              "      <td>...</td>\n",
              "      <td>7</td>\n",
              "      <td>2170</td>\n",
              "      <td>400</td>\n",
              "      <td>1951</td>\n",
              "      <td>1991</td>\n",
              "      <td>98125</td>\n",
              "      <td>47.7210</td>\n",
              "      <td>-122.319</td>\n",
              "      <td>1690</td>\n",
              "      <td>7639</td>\n",
              "    </tr>\n",
              "    <tr>\n",
              "      <td>2</td>\n",
              "      <td>5631500400</td>\n",
              "      <td>20150225T000000</td>\n",
              "      <td>180000.0</td>\n",
              "      <td>2</td>\n",
              "      <td>1.00</td>\n",
              "      <td>770</td>\n",
              "      <td>10000</td>\n",
              "      <td>1.0</td>\n",
              "      <td>0</td>\n",
              "      <td>0</td>\n",
              "      <td>...</td>\n",
              "      <td>6</td>\n",
              "      <td>770</td>\n",
              "      <td>0</td>\n",
              "      <td>1933</td>\n",
              "      <td>0</td>\n",
              "      <td>98028</td>\n",
              "      <td>47.7379</td>\n",
              "      <td>-122.233</td>\n",
              "      <td>2720</td>\n",
              "      <td>8062</td>\n",
              "    </tr>\n",
              "    <tr>\n",
              "      <td>3</td>\n",
              "      <td>2487200875</td>\n",
              "      <td>20141209T000000</td>\n",
              "      <td>604000.0</td>\n",
              "      <td>4</td>\n",
              "      <td>3.00</td>\n",
              "      <td>1960</td>\n",
              "      <td>5000</td>\n",
              "      <td>1.0</td>\n",
              "      <td>0</td>\n",
              "      <td>0</td>\n",
              "      <td>...</td>\n",
              "      <td>7</td>\n",
              "      <td>1050</td>\n",
              "      <td>910</td>\n",
              "      <td>1965</td>\n",
              "      <td>0</td>\n",
              "      <td>98136</td>\n",
              "      <td>47.5208</td>\n",
              "      <td>-122.393</td>\n",
              "      <td>1360</td>\n",
              "      <td>5000</td>\n",
              "    </tr>\n",
              "    <tr>\n",
              "      <td>4</td>\n",
              "      <td>1954400510</td>\n",
              "      <td>20150218T000000</td>\n",
              "      <td>510000.0</td>\n",
              "      <td>3</td>\n",
              "      <td>2.00</td>\n",
              "      <td>1680</td>\n",
              "      <td>8080</td>\n",
              "      <td>1.0</td>\n",
              "      <td>0</td>\n",
              "      <td>0</td>\n",
              "      <td>...</td>\n",
              "      <td>8</td>\n",
              "      <td>1680</td>\n",
              "      <td>0</td>\n",
              "      <td>1987</td>\n",
              "      <td>0</td>\n",
              "      <td>98074</td>\n",
              "      <td>47.6168</td>\n",
              "      <td>-122.045</td>\n",
              "      <td>1800</td>\n",
              "      <td>7503</td>\n",
              "    </tr>\n",
              "  </tbody>\n",
              "</table>\n",
              "<p>5 rows × 21 columns</p>\n",
              "</div>"
            ],
            "text/plain": [
              "           id             date     price  bedrooms  bathrooms  sqft_living  \\\n",
              "0  7129300520  20141013T000000  221900.0         3       1.00         1180   \n",
              "1  6414100192  20141209T000000  538000.0         3       2.25         2570   \n",
              "2  5631500400  20150225T000000  180000.0         2       1.00          770   \n",
              "3  2487200875  20141209T000000  604000.0         4       3.00         1960   \n",
              "4  1954400510  20150218T000000  510000.0         3       2.00         1680   \n",
              "\n",
              "   sqft_lot  floors  waterfront  view  ...  grade  sqft_above  sqft_basement  \\\n",
              "0      5650     1.0           0     0  ...      7        1180              0   \n",
              "1      7242     2.0           0     0  ...      7        2170            400   \n",
              "2     10000     1.0           0     0  ...      6         770              0   \n",
              "3      5000     1.0           0     0  ...      7        1050            910   \n",
              "4      8080     1.0           0     0  ...      8        1680              0   \n",
              "\n",
              "   yr_built  yr_renovated  zipcode      lat     long  sqft_living15  \\\n",
              "0      1955             0    98178  47.5112 -122.257           1340   \n",
              "1      1951          1991    98125  47.7210 -122.319           1690   \n",
              "2      1933             0    98028  47.7379 -122.233           2720   \n",
              "3      1965             0    98136  47.5208 -122.393           1360   \n",
              "4      1987             0    98074  47.6168 -122.045           1800   \n",
              "\n",
              "   sqft_lot15  \n",
              "0        5650  \n",
              "1        7639  \n",
              "2        8062  \n",
              "3        5000  \n",
              "4        7503  \n",
              "\n",
              "[5 rows x 21 columns]"
            ]
          },
          "metadata": {
            "tags": []
          },
          "execution_count": 3
        }
      ]
    },
    {
      "cell_type": "markdown",
      "metadata": {
        "id": "-IfVtC8WzuE8",
        "colab_type": "text"
      },
      "source": [
        "모델에 넣기 위해서는 순수한 수치형 자료만 들어가야 함\n",
        "- id - 키의 역할, 범주형이며 모델에 불필요 -> 제거\n",
        "- date - 여기서는 문자형 데이터로 저장되어 있음 -> 사용해주기 위해서는 전처리가 필요함\n",
        "- price - 예측하고자 하는 목표 -> y값으로 따로 저장해주기\n",
        "- bedrooms - 이산형 자료 이지만 연속형 취급해서 사용해주면 됨 -> 그대로 사용\n",
        "- zip-code - 명목형 자료이므로 더미화를 해주어야함 -> 더미화\n",
        "- lat,long - 연속형 자료이지만 위경도 이므로 집값에 직접적인 영향은 미치지 않음 -> 제거"
      ]
    },
    {
      "cell_type": "markdown",
      "metadata": {
        "id": "85vUAcWjzuE9",
        "colab_type": "text"
      },
      "source": [
        "### 1-a. Nan값 처리"
      ]
    },
    {
      "cell_type": "code",
      "metadata": {
        "id": "OQJChHgPzuFB",
        "colab_type": "code",
        "outputId": "60d7fd15-9ab4-4da5-d9f9-9002c380880a",
        "colab": {}
      },
      "source": [
        "# Nan값 확인\n",
        "county.isnull().any()"
      ],
      "execution_count": 0,
      "outputs": [
        {
          "output_type": "execute_result",
          "data": {
            "text/plain": [
              "id               False\n",
              "date             False\n",
              "price            False\n",
              "bedrooms         False\n",
              "bathrooms        False\n",
              "sqft_living      False\n",
              "sqft_lot         False\n",
              "floors           False\n",
              "waterfront       False\n",
              "view             False\n",
              "condition        False\n",
              "grade            False\n",
              "sqft_above       False\n",
              "sqft_basement    False\n",
              "yr_built         False\n",
              "yr_renovated     False\n",
              "zipcode          False\n",
              "lat              False\n",
              "long             False\n",
              "sqft_living15    False\n",
              "sqft_lot15       False\n",
              "dtype: bool"
            ]
          },
          "metadata": {
            "tags": []
          },
          "execution_count": 4
        }
      ]
    },
    {
      "cell_type": "code",
      "metadata": {
        "id": "KIou8l_PzuFH",
        "colab_type": "code",
        "colab": {}
      },
      "source": [
        "# Nan값 버리기\n",
        "county = county.dropna()"
      ],
      "execution_count": 0,
      "outputs": []
    },
    {
      "cell_type": "markdown",
      "metadata": {
        "id": "4bWPzlFMzuFN",
        "colab_type": "text"
      },
      "source": [
        "### 1-b y 값 설정해주기"
      ]
    },
    {
      "cell_type": "code",
      "metadata": {
        "id": "TJfDttkRzuFP",
        "colab_type": "code",
        "colab": {}
      },
      "source": [
        "y_dt = county.loc[:,\"price\"]"
      ],
      "execution_count": 0,
      "outputs": []
    },
    {
      "cell_type": "code",
      "metadata": {
        "id": "sBOSHysgzuFU",
        "colab_type": "code",
        "outputId": "5b91a508-0a30-4402-acc8-5eb101194b5d",
        "colab": {}
      },
      "source": [
        "y_dt.head()"
      ],
      "execution_count": 0,
      "outputs": [
        {
          "output_type": "execute_result",
          "data": {
            "text/plain": [
              "0    221900.0\n",
              "1    538000.0\n",
              "2    180000.0\n",
              "3    604000.0\n",
              "4    510000.0\n",
              "Name: price, dtype: float64"
            ]
          },
          "metadata": {
            "tags": []
          },
          "execution_count": 7
        }
      ]
    },
    {
      "cell_type": "markdown",
      "metadata": {
        "id": "-v3DKcm9zuFY",
        "colab_type": "text"
      },
      "source": [
        "### 1-c 연속형 변수들 x값에 할당해주기"
      ]
    },
    {
      "cell_type": "code",
      "metadata": {
        "id": "9zep82b3zuFZ",
        "colab_type": "code",
        "colab": {}
      },
      "source": [
        "x_dt = county.loc[:,[\"bedrooms\"]]"
      ],
      "execution_count": 0,
      "outputs": []
    },
    {
      "cell_type": "code",
      "metadata": {
        "id": "paKxWSOCzuFe",
        "colab_type": "code",
        "colab": {}
      },
      "source": [
        "x_dt[\"bathrooms\"] =  county.loc[:,\"bathrooms\"]"
      ],
      "execution_count": 0,
      "outputs": []
    },
    {
      "cell_type": "code",
      "metadata": {
        "id": "nhKfMd4-zuFi",
        "colab_type": "code",
        "outputId": "33b128f0-c36a-41f9-ab52-187ac674d91f",
        "colab": {}
      },
      "source": [
        "x_dt.head()"
      ],
      "execution_count": 0,
      "outputs": [
        {
          "output_type": "execute_result",
          "data": {
            "text/html": [
              "<div>\n",
              "<style scoped>\n",
              "    .dataframe tbody tr th:only-of-type {\n",
              "        vertical-align: middle;\n",
              "    }\n",
              "\n",
              "    .dataframe tbody tr th {\n",
              "        vertical-align: top;\n",
              "    }\n",
              "\n",
              "    .dataframe thead th {\n",
              "        text-align: right;\n",
              "    }\n",
              "</style>\n",
              "<table border=\"1\" class=\"dataframe\">\n",
              "  <thead>\n",
              "    <tr style=\"text-align: right;\">\n",
              "      <th></th>\n",
              "      <th>bedrooms</th>\n",
              "      <th>bathrooms</th>\n",
              "    </tr>\n",
              "  </thead>\n",
              "  <tbody>\n",
              "    <tr>\n",
              "      <td>0</td>\n",
              "      <td>3</td>\n",
              "      <td>1.00</td>\n",
              "    </tr>\n",
              "    <tr>\n",
              "      <td>1</td>\n",
              "      <td>3</td>\n",
              "      <td>2.25</td>\n",
              "    </tr>\n",
              "    <tr>\n",
              "      <td>2</td>\n",
              "      <td>2</td>\n",
              "      <td>1.00</td>\n",
              "    </tr>\n",
              "    <tr>\n",
              "      <td>3</td>\n",
              "      <td>4</td>\n",
              "      <td>3.00</td>\n",
              "    </tr>\n",
              "    <tr>\n",
              "      <td>4</td>\n",
              "      <td>3</td>\n",
              "      <td>2.00</td>\n",
              "    </tr>\n",
              "  </tbody>\n",
              "</table>\n",
              "</div>"
            ],
            "text/plain": [
              "   bedrooms  bathrooms\n",
              "0         3       1.00\n",
              "1         3       2.25\n",
              "2         2       1.00\n",
              "3         4       3.00\n",
              "4         3       2.00"
            ]
          },
          "metadata": {
            "tags": []
          },
          "execution_count": 10
        }
      ]
    },
    {
      "cell_type": "markdown",
      "metadata": {
        "id": "026Xc-MfzuFn",
        "colab_type": "text"
      },
      "source": [
        "### 1-d 명목형 변수들 더미화 시켜서 할당해주기"
      ]
    },
    {
      "cell_type": "code",
      "metadata": {
        "id": "y2rYN4AMzuFo",
        "colab_type": "code",
        "outputId": "8ea9d32e-dfed-4ea3-ffc5-e0713d2ef142",
        "colab": {}
      },
      "source": [
        "pd.get_dummies(county[\"zipcode\"],drop_first=True).head()"
      ],
      "execution_count": 0,
      "outputs": [
        {
          "output_type": "execute_result",
          "data": {
            "text/html": [
              "<div>\n",
              "<style scoped>\n",
              "    .dataframe tbody tr th:only-of-type {\n",
              "        vertical-align: middle;\n",
              "    }\n",
              "\n",
              "    .dataframe tbody tr th {\n",
              "        vertical-align: top;\n",
              "    }\n",
              "\n",
              "    .dataframe thead th {\n",
              "        text-align: right;\n",
              "    }\n",
              "</style>\n",
              "<table border=\"1\" class=\"dataframe\">\n",
              "  <thead>\n",
              "    <tr style=\"text-align: right;\">\n",
              "      <th></th>\n",
              "      <th>98002</th>\n",
              "      <th>98003</th>\n",
              "      <th>98004</th>\n",
              "      <th>98005</th>\n",
              "      <th>98006</th>\n",
              "      <th>98007</th>\n",
              "      <th>98008</th>\n",
              "      <th>98010</th>\n",
              "      <th>98011</th>\n",
              "      <th>98014</th>\n",
              "      <th>...</th>\n",
              "      <th>98146</th>\n",
              "      <th>98148</th>\n",
              "      <th>98155</th>\n",
              "      <th>98166</th>\n",
              "      <th>98168</th>\n",
              "      <th>98177</th>\n",
              "      <th>98178</th>\n",
              "      <th>98188</th>\n",
              "      <th>98198</th>\n",
              "      <th>98199</th>\n",
              "    </tr>\n",
              "  </thead>\n",
              "  <tbody>\n",
              "    <tr>\n",
              "      <td>0</td>\n",
              "      <td>0</td>\n",
              "      <td>0</td>\n",
              "      <td>0</td>\n",
              "      <td>0</td>\n",
              "      <td>0</td>\n",
              "      <td>0</td>\n",
              "      <td>0</td>\n",
              "      <td>0</td>\n",
              "      <td>0</td>\n",
              "      <td>0</td>\n",
              "      <td>...</td>\n",
              "      <td>0</td>\n",
              "      <td>0</td>\n",
              "      <td>0</td>\n",
              "      <td>0</td>\n",
              "      <td>0</td>\n",
              "      <td>0</td>\n",
              "      <td>1</td>\n",
              "      <td>0</td>\n",
              "      <td>0</td>\n",
              "      <td>0</td>\n",
              "    </tr>\n",
              "    <tr>\n",
              "      <td>1</td>\n",
              "      <td>0</td>\n",
              "      <td>0</td>\n",
              "      <td>0</td>\n",
              "      <td>0</td>\n",
              "      <td>0</td>\n",
              "      <td>0</td>\n",
              "      <td>0</td>\n",
              "      <td>0</td>\n",
              "      <td>0</td>\n",
              "      <td>0</td>\n",
              "      <td>...</td>\n",
              "      <td>0</td>\n",
              "      <td>0</td>\n",
              "      <td>0</td>\n",
              "      <td>0</td>\n",
              "      <td>0</td>\n",
              "      <td>0</td>\n",
              "      <td>0</td>\n",
              "      <td>0</td>\n",
              "      <td>0</td>\n",
              "      <td>0</td>\n",
              "    </tr>\n",
              "    <tr>\n",
              "      <td>2</td>\n",
              "      <td>0</td>\n",
              "      <td>0</td>\n",
              "      <td>0</td>\n",
              "      <td>0</td>\n",
              "      <td>0</td>\n",
              "      <td>0</td>\n",
              "      <td>0</td>\n",
              "      <td>0</td>\n",
              "      <td>0</td>\n",
              "      <td>0</td>\n",
              "      <td>...</td>\n",
              "      <td>0</td>\n",
              "      <td>0</td>\n",
              "      <td>0</td>\n",
              "      <td>0</td>\n",
              "      <td>0</td>\n",
              "      <td>0</td>\n",
              "      <td>0</td>\n",
              "      <td>0</td>\n",
              "      <td>0</td>\n",
              "      <td>0</td>\n",
              "    </tr>\n",
              "    <tr>\n",
              "      <td>3</td>\n",
              "      <td>0</td>\n",
              "      <td>0</td>\n",
              "      <td>0</td>\n",
              "      <td>0</td>\n",
              "      <td>0</td>\n",
              "      <td>0</td>\n",
              "      <td>0</td>\n",
              "      <td>0</td>\n",
              "      <td>0</td>\n",
              "      <td>0</td>\n",
              "      <td>...</td>\n",
              "      <td>0</td>\n",
              "      <td>0</td>\n",
              "      <td>0</td>\n",
              "      <td>0</td>\n",
              "      <td>0</td>\n",
              "      <td>0</td>\n",
              "      <td>0</td>\n",
              "      <td>0</td>\n",
              "      <td>0</td>\n",
              "      <td>0</td>\n",
              "    </tr>\n",
              "    <tr>\n",
              "      <td>4</td>\n",
              "      <td>0</td>\n",
              "      <td>0</td>\n",
              "      <td>0</td>\n",
              "      <td>0</td>\n",
              "      <td>0</td>\n",
              "      <td>0</td>\n",
              "      <td>0</td>\n",
              "      <td>0</td>\n",
              "      <td>0</td>\n",
              "      <td>0</td>\n",
              "      <td>...</td>\n",
              "      <td>0</td>\n",
              "      <td>0</td>\n",
              "      <td>0</td>\n",
              "      <td>0</td>\n",
              "      <td>0</td>\n",
              "      <td>0</td>\n",
              "      <td>0</td>\n",
              "      <td>0</td>\n",
              "      <td>0</td>\n",
              "      <td>0</td>\n",
              "    </tr>\n",
              "  </tbody>\n",
              "</table>\n",
              "<p>5 rows × 69 columns</p>\n",
              "</div>"
            ],
            "text/plain": [
              "   98002  98003  98004  98005  98006  98007  98008  98010  98011  98014  ...  \\\n",
              "0      0      0      0      0      0      0      0      0      0      0  ...   \n",
              "1      0      0      0      0      0      0      0      0      0      0  ...   \n",
              "2      0      0      0      0      0      0      0      0      0      0  ...   \n",
              "3      0      0      0      0      0      0      0      0      0      0  ...   \n",
              "4      0      0      0      0      0      0      0      0      0      0  ...   \n",
              "\n",
              "   98146  98148  98155  98166  98168  98177  98178  98188  98198  98199  \n",
              "0      0      0      0      0      0      0      1      0      0      0  \n",
              "1      0      0      0      0      0      0      0      0      0      0  \n",
              "2      0      0      0      0      0      0      0      0      0      0  \n",
              "3      0      0      0      0      0      0      0      0      0      0  \n",
              "4      0      0      0      0      0      0      0      0      0      0  \n",
              "\n",
              "[5 rows x 69 columns]"
            ]
          },
          "metadata": {
            "tags": []
          },
          "execution_count": 11
        }
      ]
    },
    {
      "cell_type": "code",
      "metadata": {
        "id": "jI6OAZC7zuFt",
        "colab_type": "code",
        "colab": {}
      },
      "source": [
        "x_dt= pd.merge(x_dt,pd.get_dummies(county[\"zipcode\"],drop_first=True),left_index=True,right_index=True)"
      ],
      "execution_count": 0,
      "outputs": []
    },
    {
      "cell_type": "code",
      "metadata": {
        "id": "UxwS7RRBzuFx",
        "colab_type": "code",
        "outputId": "7999aa02-bf46-4096-9a1f-5323d1ea07bf",
        "colab": {}
      },
      "source": [
        "x_dt.head()"
      ],
      "execution_count": 0,
      "outputs": [
        {
          "output_type": "execute_result",
          "data": {
            "text/html": [
              "<div>\n",
              "<style scoped>\n",
              "    .dataframe tbody tr th:only-of-type {\n",
              "        vertical-align: middle;\n",
              "    }\n",
              "\n",
              "    .dataframe tbody tr th {\n",
              "        vertical-align: top;\n",
              "    }\n",
              "\n",
              "    .dataframe thead th {\n",
              "        text-align: right;\n",
              "    }\n",
              "</style>\n",
              "<table border=\"1\" class=\"dataframe\">\n",
              "  <thead>\n",
              "    <tr style=\"text-align: right;\">\n",
              "      <th></th>\n",
              "      <th>bedrooms</th>\n",
              "      <th>bathrooms</th>\n",
              "      <th>98002</th>\n",
              "      <th>98003</th>\n",
              "      <th>98004</th>\n",
              "      <th>98005</th>\n",
              "      <th>98006</th>\n",
              "      <th>98007</th>\n",
              "      <th>98008</th>\n",
              "      <th>98010</th>\n",
              "      <th>...</th>\n",
              "      <th>98146</th>\n",
              "      <th>98148</th>\n",
              "      <th>98155</th>\n",
              "      <th>98166</th>\n",
              "      <th>98168</th>\n",
              "      <th>98177</th>\n",
              "      <th>98178</th>\n",
              "      <th>98188</th>\n",
              "      <th>98198</th>\n",
              "      <th>98199</th>\n",
              "    </tr>\n",
              "  </thead>\n",
              "  <tbody>\n",
              "    <tr>\n",
              "      <td>0</td>\n",
              "      <td>3</td>\n",
              "      <td>1.00</td>\n",
              "      <td>0</td>\n",
              "      <td>0</td>\n",
              "      <td>0</td>\n",
              "      <td>0</td>\n",
              "      <td>0</td>\n",
              "      <td>0</td>\n",
              "      <td>0</td>\n",
              "      <td>0</td>\n",
              "      <td>...</td>\n",
              "      <td>0</td>\n",
              "      <td>0</td>\n",
              "      <td>0</td>\n",
              "      <td>0</td>\n",
              "      <td>0</td>\n",
              "      <td>0</td>\n",
              "      <td>1</td>\n",
              "      <td>0</td>\n",
              "      <td>0</td>\n",
              "      <td>0</td>\n",
              "    </tr>\n",
              "    <tr>\n",
              "      <td>1</td>\n",
              "      <td>3</td>\n",
              "      <td>2.25</td>\n",
              "      <td>0</td>\n",
              "      <td>0</td>\n",
              "      <td>0</td>\n",
              "      <td>0</td>\n",
              "      <td>0</td>\n",
              "      <td>0</td>\n",
              "      <td>0</td>\n",
              "      <td>0</td>\n",
              "      <td>...</td>\n",
              "      <td>0</td>\n",
              "      <td>0</td>\n",
              "      <td>0</td>\n",
              "      <td>0</td>\n",
              "      <td>0</td>\n",
              "      <td>0</td>\n",
              "      <td>0</td>\n",
              "      <td>0</td>\n",
              "      <td>0</td>\n",
              "      <td>0</td>\n",
              "    </tr>\n",
              "    <tr>\n",
              "      <td>2</td>\n",
              "      <td>2</td>\n",
              "      <td>1.00</td>\n",
              "      <td>0</td>\n",
              "      <td>0</td>\n",
              "      <td>0</td>\n",
              "      <td>0</td>\n",
              "      <td>0</td>\n",
              "      <td>0</td>\n",
              "      <td>0</td>\n",
              "      <td>0</td>\n",
              "      <td>...</td>\n",
              "      <td>0</td>\n",
              "      <td>0</td>\n",
              "      <td>0</td>\n",
              "      <td>0</td>\n",
              "      <td>0</td>\n",
              "      <td>0</td>\n",
              "      <td>0</td>\n",
              "      <td>0</td>\n",
              "      <td>0</td>\n",
              "      <td>0</td>\n",
              "    </tr>\n",
              "    <tr>\n",
              "      <td>3</td>\n",
              "      <td>4</td>\n",
              "      <td>3.00</td>\n",
              "      <td>0</td>\n",
              "      <td>0</td>\n",
              "      <td>0</td>\n",
              "      <td>0</td>\n",
              "      <td>0</td>\n",
              "      <td>0</td>\n",
              "      <td>0</td>\n",
              "      <td>0</td>\n",
              "      <td>...</td>\n",
              "      <td>0</td>\n",
              "      <td>0</td>\n",
              "      <td>0</td>\n",
              "      <td>0</td>\n",
              "      <td>0</td>\n",
              "      <td>0</td>\n",
              "      <td>0</td>\n",
              "      <td>0</td>\n",
              "      <td>0</td>\n",
              "      <td>0</td>\n",
              "    </tr>\n",
              "    <tr>\n",
              "      <td>4</td>\n",
              "      <td>3</td>\n",
              "      <td>2.00</td>\n",
              "      <td>0</td>\n",
              "      <td>0</td>\n",
              "      <td>0</td>\n",
              "      <td>0</td>\n",
              "      <td>0</td>\n",
              "      <td>0</td>\n",
              "      <td>0</td>\n",
              "      <td>0</td>\n",
              "      <td>...</td>\n",
              "      <td>0</td>\n",
              "      <td>0</td>\n",
              "      <td>0</td>\n",
              "      <td>0</td>\n",
              "      <td>0</td>\n",
              "      <td>0</td>\n",
              "      <td>0</td>\n",
              "      <td>0</td>\n",
              "      <td>0</td>\n",
              "      <td>0</td>\n",
              "    </tr>\n",
              "  </tbody>\n",
              "</table>\n",
              "<p>5 rows × 71 columns</p>\n",
              "</div>"
            ],
            "text/plain": [
              "   bedrooms  bathrooms  98002  98003  98004  98005  98006  98007  98008  \\\n",
              "0         3       1.00      0      0      0      0      0      0      0   \n",
              "1         3       2.25      0      0      0      0      0      0      0   \n",
              "2         2       1.00      0      0      0      0      0      0      0   \n",
              "3         4       3.00      0      0      0      0      0      0      0   \n",
              "4         3       2.00      0      0      0      0      0      0      0   \n",
              "\n",
              "   98010  ...  98146  98148  98155  98166  98168  98177  98178  98188  98198  \\\n",
              "0      0  ...      0      0      0      0      0      0      1      0      0   \n",
              "1      0  ...      0      0      0      0      0      0      0      0      0   \n",
              "2      0  ...      0      0      0      0      0      0      0      0      0   \n",
              "3      0  ...      0      0      0      0      0      0      0      0      0   \n",
              "4      0  ...      0      0      0      0      0      0      0      0      0   \n",
              "\n",
              "   98199  \n",
              "0      0  \n",
              "1      0  \n",
              "2      0  \n",
              "3      0  \n",
              "4      0  \n",
              "\n",
              "[5 rows x 71 columns]"
            ]
          },
          "metadata": {
            "tags": []
          },
          "execution_count": 13
        }
      ]
    },
    {
      "cell_type": "markdown",
      "metadata": {
        "id": "PI0EGmqMzuF3",
        "colab_type": "text"
      },
      "source": [
        "# 2. 모델 적합"
      ]
    },
    {
      "cell_type": "markdown",
      "metadata": {
        "id": "qSGg3UcKzuF4",
        "colab_type": "text"
      },
      "source": [
        "### sklearn 패키지 사용하기\n",
        "https://scikit-learn.org/stable/"
      ]
    },
    {
      "cell_type": "code",
      "metadata": {
        "id": "ON3-DWYUzuF5",
        "colab_type": "code",
        "colab": {}
      },
      "source": [
        "# 사이킷런 패키지에서 필요한 함수를 불러오기\n",
        "from sklearn.ensemble import RandomForestRegressor"
      ],
      "execution_count": 0,
      "outputs": []
    },
    {
      "cell_type": "code",
      "metadata": {
        "id": "HvJD829jzuF9",
        "colab_type": "code",
        "colab": {}
      },
      "source": [
        "#알고리즘을 인스턴스에 저장 하기\n",
        "rf = RandomForestRegressor()"
      ],
      "execution_count": 0,
      "outputs": []
    },
    {
      "cell_type": "markdown",
      "metadata": {
        "id": "cNu07foPzuGB",
        "colab_type": "text"
      },
      "source": [
        "### 인스턴스의 인수와 어트리뷰트, 메서드 확인하기 (shift+tab)"
      ]
    },
    {
      "cell_type": "markdown",
      "metadata": {
        "id": "A4COP2DKzuGC",
        "colab_type": "text"
      },
      "source": [
        "### 하이퍼 파라미터 - 모델의 구조를 결정짓는 숫자들\n",
        "![image.png](attachment:image.png)  \n",
        "\n",
        "   \n",
        " 하이퍼 파라미터 들이 매우 많음 -> 그리드 서치/ 랜덤 서치로 최적화 하자"
      ]
    },
    {
      "cell_type": "markdown",
      "metadata": {
        "id": "MvvOYo9zzuGD",
        "colab_type": "text"
      },
      "source": [
        "### 어트리뷰트\n",
        "![image.png](attachment:image.png)"
      ]
    },
    {
      "cell_type": "markdown",
      "metadata": {
        "id": "duAS8LwjzuGE",
        "colab_type": "text"
      },
      "source": [
        "### 메서드\n",
        "사이킷런 홈페이지에서 확인\n",
        "![image.png](attachment:image.png)"
      ]
    },
    {
      "cell_type": "markdown",
      "metadata": {
        "id": "cqvz1r_pzuGF",
        "colab_type": "text"
      },
      "source": [
        "### 2-a 모델 적합(fitting) 시키기"
      ]
    },
    {
      "cell_type": "code",
      "metadata": {
        "id": "6XMU6EcCzuGI",
        "colab_type": "code",
        "outputId": "9f606b25-a187-4ce8-8a66-a7bc7da11259",
        "colab": {}
      },
      "source": [
        "# fit 메서드 사용\n",
        "rf.fit(x_dt,y_dt)"
      ],
      "execution_count": 0,
      "outputs": [
        {
          "output_type": "stream",
          "text": [
            "C:\\Users\\User\\AppData\\Local\\Continuum\\anaconda3\\lib\\site-packages\\sklearn\\ensemble\\forest.py:245: FutureWarning: The default value of n_estimators will change from 10 in version 0.20 to 100 in 0.22.\n",
            "  \"10 in version 0.20 to 100 in 0.22.\", FutureWarning)\n"
          ],
          "name": "stderr"
        },
        {
          "output_type": "execute_result",
          "data": {
            "text/plain": [
              "RandomForestRegressor(bootstrap=True, criterion='mse', max_depth=None,\n",
              "                      max_features='auto', max_leaf_nodes=None,\n",
              "                      min_impurity_decrease=0.0, min_impurity_split=None,\n",
              "                      min_samples_leaf=1, min_samples_split=2,\n",
              "                      min_weight_fraction_leaf=0.0, n_estimators=10,\n",
              "                      n_jobs=None, oob_score=False, random_state=None,\n",
              "                      verbose=0, warm_start=False)"
            ]
          },
          "metadata": {
            "tags": []
          },
          "execution_count": 16
        }
      ]
    },
    {
      "cell_type": "code",
      "metadata": {
        "id": "6FPCWrN5zuGM",
        "colab_type": "code",
        "outputId": "34a33778-fb1e-4563-e59c-2edf5c48f7b8",
        "colab": {}
      },
      "source": [
        "# predict를 이용해서 주어진 x에 대한 예측값을 반환해줌\n",
        "rf.predict(x_dt)"
      ],
      "execution_count": 0,
      "outputs": [
        {
          "output_type": "execute_result",
          "data": {
            "text/plain": [
              "array([220570.47459506, 438879.76060576, 295347.66666667, ...,\n",
              "       366392.06505636, 589968.20865493, 366392.06505636])"
            ]
          },
          "metadata": {
            "tags": []
          },
          "execution_count": 17
        }
      ]
    },
    {
      "cell_type": "code",
      "metadata": {
        "id": "rkGAf01SzuGW",
        "colab_type": "code",
        "outputId": "2d79fe4f-f0fa-4e6f-e010-65f870caf020",
        "colab": {}
      },
      "source": [
        "pd.DataFrame(rf.predict(x_dt))"
      ],
      "execution_count": 0,
      "outputs": [
        {
          "output_type": "execute_result",
          "data": {
            "text/html": [
              "<div>\n",
              "<style scoped>\n",
              "    .dataframe tbody tr th:only-of-type {\n",
              "        vertical-align: middle;\n",
              "    }\n",
              "\n",
              "    .dataframe tbody tr th {\n",
              "        vertical-align: top;\n",
              "    }\n",
              "\n",
              "    .dataframe thead th {\n",
              "        text-align: right;\n",
              "    }\n",
              "</style>\n",
              "<table border=\"1\" class=\"dataframe\">\n",
              "  <thead>\n",
              "    <tr style=\"text-align: right;\">\n",
              "      <th></th>\n",
              "      <th>0</th>\n",
              "    </tr>\n",
              "  </thead>\n",
              "  <tbody>\n",
              "    <tr>\n",
              "      <td>0</td>\n",
              "      <td>220570.474595</td>\n",
              "    </tr>\n",
              "    <tr>\n",
              "      <td>1</td>\n",
              "      <td>438879.760606</td>\n",
              "    </tr>\n",
              "    <tr>\n",
              "      <td>2</td>\n",
              "      <td>295347.666667</td>\n",
              "    </tr>\n",
              "    <tr>\n",
              "      <td>3</td>\n",
              "      <td>709793.333333</td>\n",
              "    </tr>\n",
              "    <tr>\n",
              "      <td>4</td>\n",
              "      <td>481502.167782</td>\n",
              "    </tr>\n",
              "    <tr>\n",
              "      <td>...</td>\n",
              "      <td>...</td>\n",
              "    </tr>\n",
              "    <tr>\n",
              "      <td>21608</td>\n",
              "      <td>539718.666513</td>\n",
              "    </tr>\n",
              "    <tr>\n",
              "      <td>21609</td>\n",
              "      <td>479799.876194</td>\n",
              "    </tr>\n",
              "    <tr>\n",
              "      <td>21610</td>\n",
              "      <td>366392.065056</td>\n",
              "    </tr>\n",
              "    <tr>\n",
              "      <td>21611</td>\n",
              "      <td>589968.208655</td>\n",
              "    </tr>\n",
              "    <tr>\n",
              "      <td>21612</td>\n",
              "      <td>366392.065056</td>\n",
              "    </tr>\n",
              "  </tbody>\n",
              "</table>\n",
              "<p>21613 rows × 1 columns</p>\n",
              "</div>"
            ],
            "text/plain": [
              "                   0\n",
              "0      220570.474595\n",
              "1      438879.760606\n",
              "2      295347.666667\n",
              "3      709793.333333\n",
              "4      481502.167782\n",
              "...              ...\n",
              "21608  539718.666513\n",
              "21609  479799.876194\n",
              "21610  366392.065056\n",
              "21611  589968.208655\n",
              "21612  366392.065056\n",
              "\n",
              "[21613 rows x 1 columns]"
            ]
          },
          "metadata": {
            "tags": []
          },
          "execution_count": 18
        }
      ]
    },
    {
      "cell_type": "markdown",
      "metadata": {
        "id": "fIfSCnaazuGc",
        "colab_type": "text"
      },
      "source": [
        "### 2-b. 하이퍼 파라미터 튜닝"
      ]
    },
    {
      "cell_type": "markdown",
      "metadata": {
        "id": "SpMCHBW-zuGd",
        "colab_type": "text"
      },
      "source": [
        "#### 그리드 서치"
      ]
    },
    {
      "cell_type": "code",
      "metadata": {
        "id": "LIvIq5QQzuGe",
        "colab_type": "code",
        "colab": {}
      },
      "source": [
        "from sklearn.model_selection import GridSearchCV"
      ],
      "execution_count": 0,
      "outputs": []
    },
    {
      "cell_type": "code",
      "metadata": {
        "id": "ULkuPWcdzuGi",
        "colab_type": "code",
        "colab": {}
      },
      "source": [
        "param = {\"n_estimators\":(100,200,300),\"max_depth\":(5,10,20)}\n",
        "grid = GridSearchCV(rf, param_grid = param,cv=2)"
      ],
      "execution_count": 0,
      "outputs": []
    },
    {
      "cell_type": "code",
      "metadata": {
        "id": "EQ6L0s_PzuGn",
        "colab_type": "code",
        "outputId": "727661ed-8fa0-4559-fa4f-a0f5566b594a",
        "colab": {}
      },
      "source": [
        "grid.fit(x_dt,y_dt)"
      ],
      "execution_count": 0,
      "outputs": [
        {
          "output_type": "execute_result",
          "data": {
            "text/plain": [
              "GridSearchCV(cv=2, error_score='raise-deprecating',\n",
              "             estimator=RandomForestRegressor(bootstrap=True, criterion='mse',\n",
              "                                             max_depth=None,\n",
              "                                             max_features='auto',\n",
              "                                             max_leaf_nodes=None,\n",
              "                                             min_impurity_decrease=0.0,\n",
              "                                             min_impurity_split=None,\n",
              "                                             min_samples_leaf=1,\n",
              "                                             min_samples_split=2,\n",
              "                                             min_weight_fraction_leaf=0.0,\n",
              "                                             n_estimators=10, n_jobs=None,\n",
              "                                             oob_score=False, random_state=None,\n",
              "                                             verbose=0, warm_start=False),\n",
              "             iid='warn', n_jobs=None,\n",
              "             param_grid={'max_depth': (5, 10, 20),\n",
              "                         'n_estimators': (100, 200, 300)},\n",
              "             pre_dispatch='2*n_jobs', refit=True, return_train_score=False,\n",
              "             scoring=None, verbose=0)"
            ]
          },
          "metadata": {
            "tags": []
          },
          "execution_count": 21
        }
      ]
    },
    {
      "cell_type": "code",
      "metadata": {
        "id": "FP4tSVvizuGr",
        "colab_type": "code",
        "outputId": "a030f62d-2868-48fe-fd24-20ea916dfe82",
        "colab": {}
      },
      "source": [
        "grid.best_params_"
      ],
      "execution_count": 0,
      "outputs": [
        {
          "output_type": "execute_result",
          "data": {
            "text/plain": [
              "{'max_depth': 20, 'n_estimators': 200}"
            ]
          },
          "metadata": {
            "tags": []
          },
          "execution_count": 22
        }
      ]
    },
    {
      "cell_type": "code",
      "metadata": {
        "id": "j5S2qYh0zuGv",
        "colab_type": "code",
        "colab": {}
      },
      "source": [
        "rf = RandomForestRegressor(max_depth= 20, n_estimators= 300)"
      ],
      "execution_count": 0,
      "outputs": []
    },
    {
      "cell_type": "code",
      "metadata": {
        "id": "6BeZ8eh6zuG0",
        "colab_type": "code",
        "outputId": "7ba6304a-c451-4fc3-8379-172b3ed9f8f4",
        "colab": {}
      },
      "source": [
        "rf.fit(x_dt,y_dt)"
      ],
      "execution_count": 0,
      "outputs": [
        {
          "output_type": "execute_result",
          "data": {
            "text/plain": [
              "RandomForestRegressor(bootstrap=True, criterion='mse', max_depth=20,\n",
              "                      max_features='auto', max_leaf_nodes=None,\n",
              "                      min_impurity_decrease=0.0, min_impurity_split=None,\n",
              "                      min_samples_leaf=1, min_samples_split=2,\n",
              "                      min_weight_fraction_leaf=0.0, n_estimators=300,\n",
              "                      n_jobs=None, oob_score=False, random_state=None,\n",
              "                      verbose=0, warm_start=False)"
            ]
          },
          "metadata": {
            "tags": []
          },
          "execution_count": 24
        }
      ]
    },
    {
      "cell_type": "markdown",
      "metadata": {
        "id": "-c5AiAPqzuG5",
        "colab_type": "text"
      },
      "source": [
        "### 2-c. 모델 평가"
      ]
    },
    {
      "cell_type": "markdown",
      "metadata": {
        "id": "Rjdv_Uz4zuG6",
        "colab_type": "text"
      },
      "source": [
        "모델 평가 점수 -> ppt참고"
      ]
    },
    {
      "cell_type": "markdown",
      "metadata": {
        "id": "tHdXfC6BzuG7",
        "colab_type": "text"
      },
      "source": [
        "#### 크로스 밸리데이션\n",
        "- 데이터 셋을 n-등분하여 n-1개로 훈련하고 나머지로 적합을 시키는 방식\n",
        "- 오버피팅을 관리하기 위해 사용 (오버피팅 -> ppt 참고)"
      ]
    },
    {
      "cell_type": "code",
      "metadata": {
        "id": "ToB57P7azuG8",
        "colab_type": "code",
        "colab": {}
      },
      "source": [
        "from sklearn.model_selection import cross_validate"
      ],
      "execution_count": 0,
      "outputs": []
    },
    {
      "cell_type": "code",
      "metadata": {
        "id": "x_hH2kmfzuHA",
        "colab_type": "code",
        "colab": {}
      },
      "source": [
        "cv = cross_validate(rf,x_dt,y_dt,scoring=\"r2\",cv=5,return_train_score=True)"
      ],
      "execution_count": 0,
      "outputs": []
    },
    {
      "cell_type": "markdown",
      "metadata": {
        "id": "SHTy7Am2zuHJ",
        "colab_type": "text"
      },
      "source": [
        "사이킷런에서 제공하는 스코어 정보들  \n",
        "https://scikit-learn.org/stable/modules/model_evaluation.html#scoring-parameter"
      ]
    },
    {
      "cell_type": "code",
      "metadata": {
        "id": "sdGTXHMHzuHK",
        "colab_type": "code",
        "outputId": "73666376-7e80-4233-e6db-e056235a3457",
        "colab": {}
      },
      "source": [
        "cv"
      ],
      "execution_count": 0,
      "outputs": [
        {
          "output_type": "execute_result",
          "data": {
            "text/plain": [
              "{'fit_time': array([18.60658646, 17.99502015, 18.1536901 , 18.87106204, 18.7270515 ]),\n",
              " 'score_time': array([0.12167525, 0.11768031, 0.13390279, 0.12965345, 0.12860727]),\n",
              " 'test_score': array([0.56116111, 0.56192756, 0.55977551, 0.58476044, 0.47795324]),\n",
              " 'train_score': array([0.70142198, 0.70076878, 0.7053065 , 0.70498973, 0.70517436])}"
            ]
          },
          "metadata": {
            "tags": []
          },
          "execution_count": 27
        }
      ]
    },
    {
      "cell_type": "markdown",
      "metadata": {
        "id": "Fzt3r4MpzuHO",
        "colab_type": "text"
      },
      "source": [
        "트레인은 0.7 가량, 테스트는 0.56  \n",
        "-> 오버 피팅 되어있음"
      ]
    },
    {
      "cell_type": "code",
      "metadata": {
        "id": "bdaM0JtbzuHP",
        "colab_type": "code",
        "colab": {}
      },
      "source": [
        ""
      ],
      "execution_count": 0,
      "outputs": []
    },
    {
      "cell_type": "markdown",
      "metadata": {
        "id": "VJ0jlNYzzuHS",
        "colab_type": "text"
      },
      "source": [
        "# 별도.오버피팅 시각화"
      ]
    },
    {
      "cell_type": "code",
      "metadata": {
        "id": "NNZmNVl2zuHT",
        "colab_type": "code",
        "colab": {}
      },
      "source": [
        "from sklearn.linear_model import LinearRegression\n",
        "from sklearn.preprocessing import MinMaxScaler"
      ],
      "execution_count": 0,
      "outputs": []
    },
    {
      "cell_type": "code",
      "metadata": {
        "id": "nHZ_1BetzuHX",
        "colab_type": "code",
        "colab": {}
      },
      "source": [
        "import matplotlib.pyplot as plt"
      ],
      "execution_count": 0,
      "outputs": []
    },
    {
      "cell_type": "code",
      "metadata": {
        "id": "-nKYm6MtzuHb",
        "colab_type": "code",
        "colab": {}
      },
      "source": [
        "x1 = np.linspace(0,0.5,100)\n",
        "x2 = np.linspace(0.5,1,100)\n",
        "y1 = np.log(x1+0.5) + np.random.normal(0,0.1,100)\n",
        "y2 = np.sin(x2*20)+np.log(1) + np.random.normal(0,0.4,100)\n",
        "x_dt = pd.DataFrame([*x1,*x2])\n",
        "y_dt = pd.DataFrame([*y1,*y2])"
      ],
      "execution_count": 0,
      "outputs": []
    },
    {
      "cell_type": "markdown",
      "metadata": {
        "id": "UTxSStN1zuHf",
        "colab_type": "text"
      },
      "source": [
        "## 원본 데이터"
      ]
    },
    {
      "cell_type": "code",
      "metadata": {
        "id": "HXVLgEn0zuHg",
        "colab_type": "code",
        "outputId": "8f988b63-eab1-4d65-d1ba-cc45c70e033b",
        "colab": {}
      },
      "source": [
        "fig = plt.figure(figsize=(15,10))\n",
        "plt.plot(x_dt,y_dt,\"o\")\n",
        "plt.show()"
      ],
      "execution_count": 0,
      "outputs": [
        {
          "output_type": "display_data",
          "data": {
            "image/png": "[encoded data removed]",
            "text/plain": [
              "<Figure size 1080x720 with 1 Axes>"
            ]
          },
          "metadata": {
            "tags": [],
            "needs_background": "light"
          }
        }
      ]
    },
    {
      "cell_type": "markdown",
      "metadata": {
        "id": "1EbmJzU7zuHk",
        "colab_type": "text"
      },
      "source": [
        "## 피쳐 4개 사용(언더피팅)"
      ]
    },
    {
      "cell_type": "code",
      "metadata": {
        "scrolled": false,
        "id": "DUGiXBR5zuHk",
        "colab_type": "code",
        "outputId": "9a6bea61-c25e-42c8-f37a-30ea6aa6b726",
        "colab": {}
      },
      "source": [
        "x_dt1 = pd.DataFrame(np.ones(shape=(200,1)))\n",
        "for i in range(1,4) : \n",
        "    x_dt1[str(i)] = x_dt**i\n",
        "lr1 =  LinearRegression()\n",
        "lr1.fit(x_dt1,y_dt)\n",
        "fig = plt.figure(figsize=(15,10))\n",
        "plt.plot(x_dt,y_dt,\"o\")\n",
        "plt.plot(x_dt,lr1.predict(x_dt1))\n",
        "plt.show()"
      ],
      "execution_count": 0,
      "outputs": [
        {
          "output_type": "display_data",
          "data": {
            "image/png": "[encoded data removed]",
            "text/plain": [
              "<Figure size 1080x720 with 1 Axes>"
            ]
          },
          "metadata": {
            "tags": [],
            "needs_background": "light"
          }
        }
      ]
    },
    {
      "cell_type": "markdown",
      "metadata": {
        "id": "edt3KbhEzuHo",
        "colab_type": "text"
      },
      "source": [
        "## 피쳐 20개 사용"
      ]
    },
    {
      "cell_type": "code",
      "metadata": {
        "scrolled": false,
        "id": "B7m8jsLCzuHq",
        "colab_type": "code",
        "outputId": "94b0e169-754e-499b-8267-a4d1d89c847c",
        "colab": {}
      },
      "source": [
        "x_dt2 = pd.DataFrame(np.ones(shape=(200,1)))\n",
        "for i in range(1,20) : \n",
        "    x_dt2[str(i)] = np.array([*x1,*x2])**i\n",
        "lr2 =  LinearRegression()\n",
        "lr2.fit(x_dt2,y_dt)\n",
        "fig = plt.figure(figsize=(15,10))\n",
        "plt.plot(x_dt,y_dt,\"o\")\n",
        "plt.plot(x_dt,lr2.predict(x_dt2))\n",
        "plt.show()"
      ],
      "execution_count": 0,
      "outputs": [
        {
          "output_type": "display_data",
          "data": {
            "image/png": "[encoded data removed]",
            "text/plain": [
              "<Figure size 1080x720 with 1 Axes>"
            ]
          },
          "metadata": {
            "tags": [],
            "needs_background": "light"
          }
        }
      ]
    },
    {
      "cell_type": "markdown",
      "metadata": {
        "id": "aj9Di595zuHw",
        "colab_type": "text"
      },
      "source": [
        "## 피쳐 500개 사용(오버피팅)"
      ]
    },
    {
      "cell_type": "code",
      "metadata": {
        "id": "eoXn9huOzuHx",
        "colab_type": "code",
        "outputId": "ec35b78c-d2a0-4196-a6c0-5f6c6cb5f62a",
        "colab": {}
      },
      "source": [
        "x_dt3 = pd.DataFrame(np.ones(shape=(200,1)))\n",
        "for i in range(1,500) : \n",
        "    x_dt3[str(i)] = x_dt**i\n",
        "lr3 =  LinearRegression()\n",
        "lr3.fit(x_dt3,y_dt)\n",
        "fig = plt.figure(figsize=(15,10))\n",
        "plt.plot(x_dt,y_dt,\"o\")\n",
        "plt.plot(x_dt,lr3.predict(x_dt3))\n",
        "plt.show()"
      ],
      "execution_count": 0,
      "outputs": [
        {
          "output_type": "display_data",
          "data": {
            "image/png": "[encoded data removed]",
            "text/plain": [
              "<Figure size 1080x720 with 1 Axes>"
            ]
          },
          "metadata": {
            "tags": [],
            "needs_background": "light"
          }
        }
      ]
    },
    {
      "cell_type": "markdown",
      "metadata": {
        "id": "x9lbeA6tzuH3",
        "colab_type": "text"
      },
      "source": [
        "## 만약 Train Data로 전체의 75%를 쓴다면?"
      ]
    },
    {
      "cell_type": "code",
      "metadata": {
        "id": "RE3lplo5zuH4",
        "colab_type": "code",
        "colab": {}
      },
      "source": [
        "from sklearn.utils.random import sample_without_replacement"
      ],
      "execution_count": 0,
      "outputs": []
    },
    {
      "cell_type": "code",
      "metadata": {
        "id": "zM8966gbzuH_",
        "colab_type": "code",
        "colab": {}
      },
      "source": [
        "random_ind = sample_without_replacement(200,150)\n",
        "y_dt_less = y_dt.iloc[random_ind,:]"
      ],
      "execution_count": 0,
      "outputs": []
    },
    {
      "cell_type": "markdown",
      "metadata": {
        "id": "Iuj4fDGPzuID",
        "colab_type": "text"
      },
      "source": [
        "## 피쳐가 4개인 경우"
      ]
    },
    {
      "cell_type": "code",
      "metadata": {
        "id": "D4yY-QCFzuIE",
        "colab_type": "code",
        "outputId": "2371a25c-acaa-4551-9b9c-aa19ccbc273d",
        "colab": {}
      },
      "source": [
        "x_dt1_less = x_dt1.iloc[random_ind,:]\n",
        "lr1_less =  LinearRegression()\n",
        "lr1_less.fit(x_dt1_less,y_dt_less)\n",
        "fig = plt.figure(figsize=(15,10))\n",
        "plt.plot(x_dt,y_dt,\"o\")\n",
        "plt.plot(x_dt,lr1_less.predict(x_dt1))\n",
        "plt.ylim([-2,1.5])\n",
        "plt.show()"
      ],
      "execution_count": 0,
      "outputs": [
        {
          "output_type": "display_data",
          "data": {
            "image/png": "[encoded data removed]",
            "text/plain": [
              "<Figure size 1080x720 with 1 Axes>"
            ]
          },
          "metadata": {
            "tags": [],
            "needs_background": "light"
          }
        }
      ]
    },
    {
      "cell_type": "markdown",
      "metadata": {
        "id": "H7EsZxi2zuII",
        "colab_type": "text"
      },
      "source": [
        "## 피쳐가 20개인 경우"
      ]
    },
    {
      "cell_type": "code",
      "metadata": {
        "id": "cYo4O_muzuIK",
        "colab_type": "code",
        "outputId": "0ec4b2ff-5f72-4900-df63-445b7368b318",
        "colab": {}
      },
      "source": [
        "x_dt2_less = x_dt2.iloc[random_ind,:]\n",
        "lr2_less =  LinearRegression()\n",
        "lr2_less.fit(x_dt2_less,y_dt_less)\n",
        "fig = plt.figure(figsize=(15,10))\n",
        "plt.plot(x_dt,y_dt,\"o\")\n",
        "plt.plot(x_dt,lr2_less.predict(x_dt2))\n",
        "plt.ylim([-2,1.5])\n",
        "plt.show()"
      ],
      "execution_count": 0,
      "outputs": [
        {
          "output_type": "display_data",
          "data": {
            "image/png": "[encoded data removed]",
            "text/plain": [
              "<Figure size 1080x720 with 1 Axes>"
            ]
          },
          "metadata": {
            "tags": [],
            "needs_background": "light"
          }
        }
      ]
    },
    {
      "cell_type": "markdown",
      "metadata": {
        "id": "YFe1X-t7zuIQ",
        "colab_type": "text"
      },
      "source": [
        "## 피쳐가 500개인 경우"
      ]
    },
    {
      "cell_type": "code",
      "metadata": {
        "id": "xWE5ntKgzuIS",
        "colab_type": "code",
        "outputId": "c0d6cfd3-8da4-493c-a68e-405c9686af00",
        "colab": {}
      },
      "source": [
        "x_dt3_less = x_dt3.iloc[random_ind,:]\n",
        "lr3_less =  LinearRegression()\n",
        "lr3_less.fit(x_dt3_less,y_dt_less)\n",
        "fig = plt.figure(figsize=(15,10))\n",
        "plt.plot(x_dt,y_dt,\"o\")\n",
        "plt.plot(x_dt,lr3_less.predict(x_dt3))\n",
        "plt.ylim([-2,1.5])\n",
        "plt.show()"
      ],
      "execution_count": 0,
      "outputs": [
        {
          "output_type": "display_data",
          "data": {
            "image/png": "[encoded data removed]",
            "text/plain": [
              "<Figure size 1080x720 with 1 Axes>"
            ]
          },
          "metadata": {
            "tags": [],
            "needs_background": "light"
          }
        }
      ]
    },
    {
      "cell_type": "markdown",
      "metadata": {
        "id": "V6kctozlzuIV",
        "colab_type": "text"
      },
      "source": [
        "## 샘플이 가온데 100개일시"
      ]
    },
    {
      "cell_type": "code",
      "metadata": {
        "id": "x5QnZ-AMzuIW",
        "colab_type": "code",
        "outputId": "c16dcedc-c006-49e2-f9f9-630afc4020f3",
        "colab": {}
      },
      "source": [
        "lr3_less =  LinearRegression()\n",
        "lr3_less.fit(x_dt3[50:150],np.array([*y1,*y2])[50:150])\n",
        "fig = plt.figure(figsize=(15,10))\n",
        "plt.plot([*x1,*x2],[*y1,*y2],\"o\")\n",
        "plt.plot([*x1,*x2],lr3_less.predict(x_dt3))\n",
        "plt.ylim([-2,1.5])\n",
        "plt.show()"
      ],
      "execution_count": 0,
      "outputs": [
        {
          "output_type": "display_data",
          "data": {
            "image/png": "[encoded data removed]",
            "text/plain": [
              "<Figure size 1080x720 with 1 Axes>"
            ]
          },
          "metadata": {
            "tags": [],
            "needs_background": "light"
          }
        }
      ]
    },
    {
      "cell_type": "code",
      "metadata": {
        "id": "PTS-UAjNzuIa",
        "colab_type": "code",
        "colab": {}
      },
      "source": [
        ""
      ],
      "execution_count": 0,
      "outputs": []
    },
    {
      "cell_type": "markdown",
      "metadata": {
        "id": "zU9aLaoBzuIf",
        "colab_type": "text"
      },
      "source": [
        "## 세 모델의 cv 점수 비교"
      ]
    },
    {
      "cell_type": "code",
      "metadata": {
        "id": "GDsfy9cKzuIg",
        "colab_type": "code",
        "colab": {}
      },
      "source": [
        "from sklearn.utils import shuffle"
      ],
      "execution_count": 0,
      "outputs": []
    },
    {
      "cell_type": "code",
      "metadata": {
        "id": "kum4hHErzuIk",
        "colab_type": "code",
        "colab": {}
      },
      "source": [
        "x_dt1,x_dt2,x_dt3,y_dt = shuffle(x_dt1,x_dt2,x_dt3,y_dt)"
      ],
      "execution_count": 0,
      "outputs": []
    },
    {
      "cell_type": "code",
      "metadata": {
        "id": "P5_hfhPHzuIm",
        "colab_type": "code",
        "colab": {}
      },
      "source": [
        "cv1 = cross_validate(lr1,x_dt1,y_dt,scoring=\"r2\",cv=3,return_train_score=True)\n",
        "cv2 = cross_validate(lr2,x_dt2,y_dt,scoring=\"r2\",cv=3,return_train_score=True)\n",
        "cv3 = cross_validate(lr3,x_dt3,y_dt,scoring=\"r2\",cv=3,return_train_score=True)"
      ],
      "execution_count": 0,
      "outputs": []
    },
    {
      "cell_type": "code",
      "metadata": {
        "id": "8GV0iPWvzuIq",
        "colab_type": "code",
        "outputId": "7e42b4c4-d97c-4293-f98c-761d4b7a1756",
        "colab": {}
      },
      "source": [
        "cv1"
      ],
      "execution_count": 0,
      "outputs": [
        {
          "output_type": "execute_result",
          "data": {
            "text/plain": [
              "{'fit_time': array([0.00299215, 0.00251675, 0.00299168]),\n",
              " 'score_time': array([0.00099635, 0.00098491, 0.00099754]),\n",
              " 'test_score': array([0.03491639, 0.06740515, 0.05371431]),\n",
              " 'train_score': array([0.09707033, 0.08548017, 0.08777213])}"
            ]
          },
          "metadata": {
            "tags": []
          },
          "execution_count": 87
        }
      ]
    },
    {
      "cell_type": "code",
      "metadata": {
        "id": "axz0TZr2zuIu",
        "colab_type": "code",
        "outputId": "753f1c88-4874-424e-9b3b-4af4c098619b",
        "colab": {}
      },
      "source": [
        "cv2"
      ],
      "execution_count": 0,
      "outputs": [
        {
          "output_type": "execute_result",
          "data": {
            "text/plain": [
              "{'fit_time': array([0.00199437, 0.00199389, 0.00299215]),\n",
              " 'score_time': array([0.00099778, 0.00199533, 0.00099707]),\n",
              " 'test_score': array([0.76012669, 0.74063908, 0.76386089]),\n",
              " 'train_score': array([0.7617401 , 0.77123554, 0.76030201])}"
            ]
          },
          "metadata": {
            "tags": []
          },
          "execution_count": 88
        }
      ]
    },
    {
      "cell_type": "code",
      "metadata": {
        "id": "wBoUC3aTzuIy",
        "colab_type": "code",
        "outputId": "3537eeaa-0fa4-48b5-a464-3b3519ceb84c",
        "colab": {}
      },
      "source": [
        "cv3"
      ],
      "execution_count": 0,
      "outputs": [
        {
          "output_type": "execute_result",
          "data": {
            "text/plain": [
              "{'fit_time': array([0.03490829, 0.03091741, 0.02990937]),\n",
              " 'score_time': array([0.00102925, 0.00099754, 0.00099778]),\n",
              " 'test_score': array([ 7.29037009e-01, -1.16054452e+03, -1.95019976e+01]),\n",
              " 'train_score': array([0.77791571, 0.78504083, 0.776672  ])}"
            ]
          },
          "metadata": {
            "tags": []
          },
          "execution_count": 89
        }
      ]
    },
    {
      "cell_type": "code",
      "metadata": {
        "id": "6tKVYpOpzuI0",
        "colab_type": "code",
        "colab": {}
      },
      "source": [
        ""
      ],
      "execution_count": 0,
      "outputs": []
    }
  ]
}